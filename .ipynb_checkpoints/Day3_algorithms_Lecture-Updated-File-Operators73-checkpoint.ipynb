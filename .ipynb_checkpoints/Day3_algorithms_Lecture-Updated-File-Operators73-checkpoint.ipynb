{
 "cells": [
  {
   "cell_type": "markdown",
   "metadata": {},
   "source": [
    "# Intro to Algorithms, Binary Search"
   ]
  },
  {
   "cell_type": "markdown",
   "metadata": {},
   "source": [
    "## Tasks Today:\n",
    " \n",
    "1) <b>In-Place Algorithms</b> <br>\n",
    " &nbsp;&nbsp;&nbsp;&nbsp; a) Syntax <br>\n",
    " &nbsp;&nbsp;&nbsp;&nbsp; a) Out of Place Algorithm <br>\n",
    " &nbsp;&nbsp;&nbsp;&nbsp; b) In-Class Exercise #1 <br>\n",
    "2) <b>Two Pointers</b> <br>\n",
    "3) <b>Linked Lists</b> <br>\n",
    "4) <b>Sorting Algorithms</b> <br>\n",
    " &nbsp;&nbsp;&nbsp;&nbsp; a) Videos on Algorithms (Watch later) <br>\n",
    " &nbsp;&nbsp;&nbsp;&nbsp; b) Bubble Sort <br>\n",
    " &nbsp;&nbsp;&nbsp;&nbsp; c) Insertion Sort <br>\n",
    " &nbsp;&nbsp;&nbsp;&nbsp; d) Merge Sort <br>\n",
    "5) <b>Binary Search Algorithm</b> <br>\n",
    "6) <b>Exercises</b> <br>\n",
    " &nbsp;&nbsp;&nbsp;&nbsp; a) Exercise #1 - Reverse a List in Place Using an In-Place Algorithm <br>\n",
    " &nbsp;&nbsp;&nbsp;&nbsp; b) Exercise #2 - Find Distinct Words <br>\n",
    " &nbsp;&nbsp;&nbsp;&nbsp; c) Exercise #3 - Write a program to implement a Linear Search Algorithm. <br>"
   ]
  },
  {
   "cell_type": "markdown",
   "metadata": {},
   "source": [
    "## In-Place Algorithms"
   ]
  },
  {
   "cell_type": "markdown",
   "metadata": {},
   "source": [
    "#### Syntax"
   ]
  },
  {
   "cell_type": "code",
   "execution_count": 20,
   "metadata": {},
   "outputs": [
    {
     "name": "stdout",
     "output_type": "stream",
     "text": [
      "Before Swap: [20, 30, 40]\n",
      "After Sawap: [40, 30, 20]\n"
     ]
    }
   ],
   "source": [
    "# syntax for swap\n",
    "# var[i], var[i+1] = var[i+1], var[i]\n",
    "# sometimes known as the swap algorithms .. this is usually a small part of larger sorting algorithms \n",
    "\n",
    "def swap(alist, x, y, z):\n",
    "    alist[x], alist[y], alist[z] = alist[z], alist[y], alist[x]\n",
    "    return alist\n",
    "\n",
    "my_list = [20,30,40]\n",
    "print(f'Before Swap: {my_list}')\n",
    "\n",
    "# swap(my_list, 0, 2, 1)\n",
    "# print(f'After Sawap: {my_list}')\n",
    "    \n",
    "\n",
    "swap(my_list, 0, 1, 2)\n",
    "print(f'After Sawap: {my_list}')\n",
    "\n",
    "\n",
    "\n"
   ]
  },
  {
   "cell_type": "markdown",
   "metadata": {},
   "source": [
    "#### Out of Place Algorithm"
   ]
  },
  {
   "cell_type": "code",
   "execution_count": 6,
   "metadata": {},
   "outputs": [
    {
     "name": "stdout",
     "output_type": "stream",
     "text": [
      "[20, 30, 40]\n",
      "[40, 30, 20]\n",
      "['d']\n",
      "['d', 'c']\n",
      "['d', 'c', 'b']\n",
      "['d', 'c', 'b', 'a']\n"
     ]
    }
   ],
   "source": [
    "# not swaping but making an entirely new copy and reversing completely \n",
    "# takes up a new slot in memory for a new list\n",
    "\n",
    "my_list = [20,30,40] \n",
    "my_list_copy = my_list[::-1]\n",
    "print(my_list)\n",
    "print(my_list_copy)\n",
    "\n",
    "# Here is what is happening in the background of my_list[::-1]\n",
    "\n",
    "list_2 = ['a', 'b', 'c', 'd']\n",
    "\n",
    "lenght = len(list_2)\n",
    "sorted_l2 = []\n",
    "\n",
    "for i in range(1,len(list_2)+1):\n",
    "    sorted_l2.append(list_2[lenght-i])\n",
    "    print(sorted_l2)"
   ]
  },
  {
   "cell_type": "markdown",
   "metadata": {},
   "source": [
    "#### In-Class Exercise #1 <br>\n",
    "<p>Write a function that takes in four arguments (list, index1, index2, index3), and swaps those three positions in the list passed in.</p>"
   ]
  },
  {
   "cell_type": "code",
   "execution_count": 11,
   "metadata": {},
   "outputs": [
    {
     "data": {
      "text/plain": [
       "[4, 3, 10, 8, 4, 2, 6]"
      ]
     },
     "execution_count": 11,
     "metadata": {},
     "output_type": "execute_result"
    }
   ],
   "source": [
    "l_1 = [10, 4, 3, 8, 4, 2, 6]\n",
    "\n",
    "def swap_list(list1, index1, index2, index3):\n",
    "    list1[index1], list1[index2], list1[index3] = list1[index2], list1[index3], list1[index1]\n",
    "    return list1\n",
    "\n",
    "swap_list(l_1, 0, 1, 2) \n",
    "swap_list(l_1, 5, 1, 3)   \n",
    "\n",
    "# what is happening here:\n",
    "list1[0], list1[1], list1[2], = 4, 3, 10    \n",
    "        \n",
    "        \n"
   ]
  },
  {
   "cell_type": "markdown",
   "metadata": {},
   "source": [
    "## Two Pointers"
   ]
  },
  {
   "cell_type": "markdown",
   "metadata": {},
   "source": [
    "#### Syntax"
   ]
  },
  {
   "cell_type": "code",
   "execution_count": 16,
   "metadata": {},
   "outputs": [
    {
     "data": {
      "text/plain": [
       "[8, 7, 6, 5, 4, 3, 2, 1]"
      ]
     },
     "execution_count": 16,
     "metadata": {},
     "output_type": "execute_result"
    }
   ],
   "source": [
    "# alist[left], alist[right] = alist[right], alist[left]\n",
    "# most of the time 2 pointers are going to be inside of a while loop if you you are swapping items\n",
    "\n",
    "def twoPointers(alist):\n",
    "    # creat  2 pointers (begining and end in this case)\n",
    "    left = 0\n",
    "    right = len(alist) - 1 # or right = -1 but it makes it difficult to loop over \n",
    "    # start looping until there are no longer positions to swap\n",
    "    while left <= right:\n",
    "        # swap the left and right positions to reverse \n",
    "        alist[left], alist[right] = alist[right], alist[left]\n",
    "        # increase left and decrease right to find the next positions to swap \n",
    "        left += 1\n",
    "        right -= 1\n",
    "    return alist\n",
    "\n",
    "twoPointers([1,2,3,4,5,6,7,8])"
   ]
  },
  {
   "cell_type": "markdown",
   "metadata": {},
   "source": [
    "#### Video of Algorithms <br>\n",
    "<p>Watch the video about algorithms.</p>\n",
    "\n",
    "https://www.youtube.com/watch?v=Q9HjeFD62Uk\n",
    "\n",
    "https://www.youtube.com/watch?v=kPRA0W1kECg\n",
    "\n",
    "https://www.youtube.com/watch?v=ZZuD6iUe3Pc"
   ]
  },
  {
   "cell_type": "markdown",
   "metadata": {},
   "source": [
    "# Sorting Algorithms"
   ]
  },
  {
   "cell_type": "markdown",
   "metadata": {},
   "source": [
    "#### Bubble Sort\n",
    "\n",
    "Worst Case: O(n^2) Time - O(1) Space"
   ]
  },
  {
   "cell_type": "code",
   "execution_count": 22,
   "metadata": {},
   "outputs": [
    {
     "data": {
      "text/plain": [
       "[2, 3, 10, 15, 18, 20]"
      ]
     },
     "execution_count": 22,
     "metadata": {},
     "output_type": "execute_result"
    }
   ],
   "source": [
    "# Steps\n",
    "# Iterate over a list, compare each item to the item next to it\n",
    "# if the value on the left > value on the right - swap those values\n",
    "# Keep going through the list until we make a full loop with no swaps\n",
    "\n",
    "def swap(i,j,array):\n",
    "    array[i], array[j] = array[j], array[i]\n",
    "    \n",
    "def bubbleSort(array):\n",
    "    is_sorted = False\n",
    "    while not is_sorted: # or is_sorted == False\n",
    "        is_sorted = True\n",
    "        # here is where we would swap\n",
    "        for i in range(len(array)-1):\n",
    "            if array[i] > array[i+1]:\n",
    "                swap(i, i+1, array)\n",
    "                is_sorted = False\n",
    "    return array\n",
    "\n",
    "bubbleSort([20,15,18,2,3,10])"
   ]
  },
  {
   "cell_type": "markdown",
   "metadata": {},
   "source": [
    "##### Insertion Sort\n",
    "\n",
    "Worst Case: O(n^2) time - O(1)space"
   ]
  },
  {
   "cell_type": "code",
   "execution_count": 23,
   "metadata": {},
   "outputs": [
    {
     "data": {
      "text/plain": [
       "[4, 6, 12, 13, 71, 90]"
      ]
     },
     "execution_count": 23,
     "metadata": {},
     "output_type": "execute_result"
    }
   ],
   "source": [
    "# Steps\n",
    "# Look at the value at each index\n",
    "# Compare that item to every value at the left - then move the item until you reach a number comparison \n",
    "# that is already in the correct order\n",
    "# Do this every value - index 1 - final index\n",
    "\n",
    "def swap(i,j,array):\n",
    "    array[i], array[j] = array[j], array[i]\n",
    "    \n",
    "    \n",
    "def insertionSort(array):\n",
    "    for i in range(1, len(array)): # it should start at index 1 to have a comparison at left at the begining of the loop\n",
    "        j = i\n",
    "        while j > 0 and array[j] < array[j-1]:\n",
    "            swap(j, j-1, array)\n",
    "            j -= 1\n",
    "    return array\n",
    "            \n",
    "insertionSort([4,6,90,71,13,12])\n",
    "        \n",
    "    "
   ]
  },
  {
   "cell_type": "markdown",
   "metadata": {},
   "source": [
    "## Merge Sort"
   ]
  },
  {
   "cell_type": "markdown",
   "metadata": {},
   "source": [
    "#### How it Works"
   ]
  },
  {
   "cell_type": "code",
   "execution_count": 25,
   "metadata": {},
   "outputs": [
    {
     "name": "stdout",
     "output_type": "stream",
     "text": [
      "Splitting... [13, 10, 16, 2, 20]\n",
      "Splitting... [13, 10]\n",
      "Splitting... [13]\n",
      "Merging:  [13]\n",
      "Splitting... [10]\n",
      "Merging:  [10]\n",
      "Merging:  [10, 13]\n",
      "Splitting... [16, 2, 20]\n",
      "Splitting... [16]\n",
      "Merging:  [16]\n",
      "Splitting... [2, 20]\n",
      "Splitting... [2]\n",
      "Merging:  [2]\n",
      "Splitting... [20]\n",
      "Merging:  [20]\n",
      "Merging:  [2, 20]\n",
      "Merging:  [2, 16, 20]\n",
      "Merging:  [2, 10, 13, 16, 20]\n"
     ]
    },
    {
     "data": {
      "text/plain": [
       "[2, 10, 13, 16, 20]"
      ]
     },
     "execution_count": 25,
     "metadata": {},
     "output_type": "execute_result"
    }
   ],
   "source": [
    "# step 1: split everything into its own group\n",
    "# step 2: from left to right, merge 2 equal sections together \n",
    "# step 3: while merging, place each item in the correct position within the merged group\n",
    "# step 4: continue steps 3-4 until one group is left \n",
    "\n",
    "# Creating a random list\n",
    "from random import randint\n",
    "nums = [randint(0,20) for i in range(5)]\n",
    "\n",
    "# Merge sort below:\n",
    "def mergeSort(array):\n",
    "    print('Splitting...', array)\n",
    "    \n",
    "    # step 1: divide the array into equal parts ( as much as possible)\n",
    "    if len(array) > 1:\n",
    "        mid = len(array) // 2\n",
    "        lefthalf = array[:mid]\n",
    "        righthalf = array[mid:]\n",
    "        \n",
    "        # recursively call mergSort to perform split if needed \n",
    "        # merge once all splits are made\n",
    "        mergeSort(lefthalf)\n",
    "        mergeSort(righthalf)\n",
    "        \n",
    "        # index pointers for our halves\n",
    "        i = 0 # pointer for the lefthalf\n",
    "        j = 0 # pointer for the righthalf\n",
    "        k = 0 # pointer for main array (merged array)\n",
    "        \n",
    "        # step 2: compare the left and the right half\n",
    "        while i < len(lefthalf) and j < len(righthalf):\n",
    "            if lefthalf[i] < righthalf[j]:\n",
    "                array[k] = lefthalf[i]\n",
    "                i += 1\n",
    "            else:\n",
    "                array[k] = righthalf[j]\n",
    "                j += 1\n",
    "            k += 1\n",
    "             \n",
    "        # step 3: while merging place itens into correct position\n",
    "        while i < len(lefthalf):\n",
    "            array[k] = lefthalf[i]\n",
    "            i += 1\n",
    "            k += 1\n",
    "            \n",
    "        while j < len(righthalf):\n",
    "            array[k] = righthalf[j]\n",
    "            j += 1\n",
    "            k += 1\n",
    "            \n",
    "    print('Merging: ', array)\n",
    "    \n",
    "    return array\n",
    "\n",
    "mergeSort(nums)\n",
    "        \n",
    "        \n",
    "                "
   ]
  },
  {
   "cell_type": "code",
   "execution_count": null,
   "metadata": {},
   "outputs": [],
   "source": [
    "Tim sort #python has this as sort algorithm (combination og merge sort and insection sort)"
   ]
  },
  {
   "cell_type": "markdown",
   "metadata": {},
   "source": [
    "# Binary Search\n",
    "\n",
    "The Binary Search algorithm works by finding the number in the middle of a given array and comparing it to the target. Given that the array is sorted\n",
    "\n",
    "* The worst case run time for this algorithm is `O(log(n))`"
   ]
  },
  {
   "cell_type": "code",
   "execution_count": 30,
   "metadata": {},
   "outputs": [
    {
     "data": {
      "text/plain": [
       "'Congrats! You found target 8000 at index 6'"
      ]
     },
     "execution_count": 30,
     "metadata": {},
     "output_type": "execute_result"
    }
   ],
   "source": [
    "# steps \n",
    "# establish 2 pointers - left and right\n",
    "# find a midpoint between left/right\n",
    "# check the target value vs the midpoint \n",
    "# continue the process until we find our target or complete searching\n",
    "\n",
    "def binarySerach(array, target):\n",
    "    # step 1: establish pointers\n",
    "    left = 0 \n",
    "    right = len(array) - 1\n",
    "    # step 2: start looping and establish midpoint until we find or do not find target \n",
    "    while left <= right:\n",
    "        mid = (left + right) // 2\n",
    "        possible_match = array[mid]\n",
    "            \n",
    "        # adjust pointers based on comparison between target and midpoint\n",
    "        if target == possible_match:\n",
    "            return f'Congrats! You found target {target} at index {mid}'\n",
    "        elif target < possible_match:\n",
    "            right = mid - 1\n",
    "        else:\n",
    "            left = mid + 1\n",
    "                \n",
    "    return f'Sorry the target of {target} does not exist here!'\n",
    "                \n",
    "   \n",
    "    \n",
    "some_list = [1,2,4,70,72,100,8000,10000]\n",
    "\n",
    "binarySerach(some_list, 8000)\n",
    "\n",
    "    \n",
    "    \n",
    "    "
   ]
  },
  {
   "cell_type": "markdown",
   "metadata": {},
   "source": [
    "# Exercises"
   ]
  },
  {
   "cell_type": "markdown",
   "metadata": {},
   "source": [
    "### Exercise #1 <br>\n",
    "<p>Reverse the list below in-place using an in-place algorithm.<br>For extra credit: Reverse the strings at the same time.</p>"
   ]
  },
  {
   "cell_type": "code",
   "execution_count": 32,
   "metadata": {},
   "outputs": [
    {
     "data": {
      "text/plain": [
       "['.', 'ecnetnes', 'a', 'si', 'siht']"
      ]
     },
     "execution_count": 32,
     "metadata": {},
     "output_type": "execute_result"
    }
   ],
   "source": [
    "words = ['this' , 'is', 'a', 'sentence', '.']\n",
    "\n",
    "# reversed and .reverse are not allowed \n",
    "# output = ['.', 'sentence', 'a', 'is', 'this']\n",
    "# output = ['.', 'ecnetnes', 'a', 'si', 'siht']\n",
    "\n",
    "def rev_list(alist):\n",
    "    \n",
    "    left = 0\n",
    "    right = len(alist) - 1\n",
    "    \n",
    "    while left <= right:\n",
    "        alist[left], alist[right] = alist[right][-1::-1], alist[left][-1::-1]\n",
    "        left += 1\n",
    "        right -= 1\n",
    "            \n",
    "    return alist\n",
    "\n",
    "rev_list(words)"
   ]
  },
  {
   "cell_type": "markdown",
   "metadata": {},
   "source": [
    "### Exercise #2 <br>\n",
    "<p>Create a function that counts how many distinct words are in the string below, then outputs a dictionary with the words as the key and the value as the amount of times that word appears in the string.<br>Should output:<br>{'a': 5,<br>\n",
    " 'abstract': 1,<br>\n",
    " 'an': 3,<br>\n",
    " 'array': 2, ... etc...</p>"
   ]
  },
  {
   "cell_type": "code",
   "execution_count": 44,
   "metadata": {},
   "outputs": [
    {
     "data": {
      "text/plain": [
       "{'in': 1,\n",
       " 'computing,': 1,\n",
       " 'a': 5,\n",
       " 'hash': 4,\n",
       " 'table': 2,\n",
       " 'map': 2,\n",
       " 'is': 1,\n",
       " 'data': 2,\n",
       " 'structure': 2,\n",
       " 'which': 2,\n",
       " 'implements': 1,\n",
       " 'an': 3,\n",
       " 'associative': 1,\n",
       " 'array': 2,\n",
       " 'abstract': 1,\n",
       " 'type,': 1,\n",
       " 'that': 1,\n",
       " 'can': 2,\n",
       " 'keys': 1,\n",
       " 'to': 2,\n",
       " 'values.': 1,\n",
       " 'uses': 1,\n",
       " 'function': 1,\n",
       " 'compute': 1,\n",
       " 'index': 1,\n",
       " 'into': 1,\n",
       " 'of': 1,\n",
       " 'buckets': 1,\n",
       " 'or': 1,\n",
       " 'slots': 1,\n",
       " 'from': 1,\n",
       " 'the': 1,\n",
       " 'desired': 1,\n",
       " 'value': 1,\n",
       " 'be': 1,\n",
       " 'found': 1}"
      ]
     },
     "execution_count": 44,
     "metadata": {},
     "output_type": "execute_result"
    }
   ],
   "source": [
    "a_text = 'In computing, a hash table hash map is a data structure which implements an associative array abstract data type, a structure that can map keys to values. A hash table uses a hash function to compute an index into an array of buckets or slots from which the desired value can be found'\n",
    "\n",
    "def count_words(text):\n",
    "    \n",
    "    dict_word = {}\n",
    "    list1 = text.lower().split()\n",
    "    \n",
    "    for e in list1:\n",
    "        if e not in dict_word:\n",
    "            dict_word[e] = 1\n",
    "        else:\n",
    "            dict_word[e] += 1\n",
    "    return dict_word\n",
    "\n",
    "\n",
    "count_words(a_text)           "
   ]
  },
  {
   "cell_type": "markdown",
   "metadata": {},
   "source": [
    "## Exercise #3\n",
    "\n",
    "Write a program to implement a Linear Search Algorithm. Also in a comment, write the Time Complexity of the following algorithm.\n",
    "\n",
    "#### Hint: Linear Searching will require searching a list for a given number. "
   ]
  },
  {
   "cell_type": "code",
   "execution_count": 48,
   "metadata": {},
   "outputs": [
    {
     "data": {
      "text/plain": [
       "'The index of 70 is 3'"
      ]
     },
     "execution_count": 48,
     "metadata": {},
     "output_type": "execute_result"
    }
   ],
   "source": [
    "# needs a list and sth to searching for (figure out what does it mean by linear search)\n",
    "\n",
    "alist = [10,23,45,70,11,15]\n",
    "\n",
    "\n",
    "def linear_search(num_list,num):\n",
    "    \n",
    "    for i in range(0,len(num_list)):\n",
    "        if num_list[i] == num:\n",
    "            return f\"The index of {num} is {i}\"\n",
    "        \n",
    "    return f\"{num} is not in the list\"\n",
    "\n",
    "linear_search(alist,70)"
   ]
  },
  {
   "cell_type": "code",
   "execution_count": null,
   "metadata": {},
   "outputs": [],
   "source": []
  }
 ],
 "metadata": {
  "kernelspec": {
   "display_name": "Python 3",
   "language": "python",
   "name": "python3"
  },
  "language_info": {
   "codemirror_mode": {
    "name": "ipython",
    "version": 3
   },
   "file_extension": ".py",
   "mimetype": "text/x-python",
   "name": "python",
   "nbconvert_exporter": "python",
   "pygments_lexer": "ipython3",
   "version": "3.8.8"
  }
 },
 "nbformat": 4,
 "nbformat_minor": 2
}
